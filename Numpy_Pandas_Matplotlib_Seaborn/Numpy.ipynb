{
 "cells": [
  {
   "cell_type": "code",
   "execution_count": 1,
   "id": "3cd845da",
   "metadata": {},
   "outputs": [
    {
     "name": "stdout",
     "output_type": "stream",
     "text": [
      "Numpy: 2.3.2\n",
      "Pandas: 2.3.1\n",
      "Matplotlib: 3.10.5\n",
      "Seaborn: 0.13.2\n"
     ]
    },
    {
     "data": {
      "image/png": "[encoded data removed]",
      "text/plain": [
       "<Figure size 640x480 with 1 Axes>"
      ]
     },
     "metadata": {},
     "output_type": "display_data"
    }
   ],
   "source": [
    "import numpy as np\n",
    "import pandas as pd\n",
    "import matplotlib.pyplot as plt\n",
    "import seaborn as sns\n",
    "\n",
    "print(f\"Numpy: {np.__version__}\")\n",
    "print(f\"Pandas: {pd.__version__}\")\n",
    "print(f\"Matplotlib: {plt.matplotlib.__version__}\")\n",
    "print(f\"Seaborn: {sns.__version__}\")\n",
    "\n",
    "# simple plot\n",
    "arr = np.linspace(0, 10, 100)   # return 100 linearly spaced numbers between 0 and 10\n",
    "plt.plot(arr, np.sin(arr))\n",
    "plt.title(\"Test Plot\")\n",
    "plt.show()"
   ]
  },
  {
   "cell_type": "code",
   "execution_count": 6,
   "id": "69b4b1f3",
   "metadata": {},
   "outputs": [
    {
     "name": "stdout",
     "output_type": "stream",
     "text": [
      "Result from Non-vectorized Python list: [5, 7, 9]\n",
      "Result from Vectorized NumPy: [5 7 9]\n"
     ]
    }
   ],
   "source": [
    "# NumPy (Numerical Python) is a library for numerical computing.\n",
    "# It uses ndarray (n-dimensional array) which stores data in contiguous memory - making it faster than python lists.\n",
    "# Python lists are flexible but slow because:\n",
    "    # They store references, not actual numbers\n",
    "    # They don't take advantage of low-level vectorized operations.\n",
    "\n",
    "# Storage: References vs. Actual Numbers\n",
    "# Python lists:\n",
    "    # Store references(pointers) to objects, not the actual values\n",
    "    # Each element is a Python object with overhead(type info, reference count, etc.)\n",
    "    # Elements can be different types since each is just a reference\n",
    "    # Memory layout is not contiguous for the actual data\n",
    "\n",
    "# NumPy Arrays:\n",
    "    # Store actual numerical values directly in contiguous memory.\n",
    "    # All elements must be the same data type (homogeneous)\n",
    "    # Much more memory efficient - no Python object overhead\n",
    "    # Data is stored in C-style arrays under the hood.\n",
    "\n",
    "# What is Low-Level Vectorized Operations?\n",
    "# Vectorized operations mean applying a single operation to entire arrays at once, rather than looping through elements. NumPy implements these in optimized C code.\n",
    "\n",
    "# Non-vectorized (Python list):\n",
    "result = []\n",
    "list1 = [1, 2, 3]\n",
    "list2 = [4, 5, 6]\n",
    "for i in range(len(list1)):\n",
    "    result.append(list1[i]+list2[i])\n",
    "print(f\"Result from Non-vectorized Python list: {result}\")\n",
    "\n",
    "# Vectorized NumPy:\n",
    "array1 = np.array(list1)\n",
    "array2 = np.array(list2)\n",
    "result_array = array1 + array2\n",
    "print(f\"Result from Vectorized NumPy: {result_array}\")"
   ]
  },
  {
   "cell_type": "code",
   "execution_count": 7,
   "id": "16452005",
   "metadata": {},
   "outputs": [
    {
     "name": "stdout",
     "output_type": "stream",
     "text": [
      "<class 'list'>\n",
      "<class 'numpy.ndarray'>\n"
     ]
    }
   ],
   "source": [
    "print(type(list1))\n",
    "print(type(array1))"
   ]
  },
  {
   "cell_type": "code",
   "execution_count": 12,
   "id": "1b32938f",
   "metadata": {},
   "outputs": [
    {
     "data": {
      "text/plain": [
       "array([0, 2, 4, 6, 8])"
      ]
     },
     "execution_count": 12,
     "metadata": {},
     "output_type": "execute_result"
    }
   ],
   "source": [
    "# arange(start, stop, step)\n",
    "np.arange(0, 10, 2)"
   ]
  },
  {
   "cell_type": "code",
   "execution_count": null,
   "id": "b65ee2e9",
   "metadata": {},
   "outputs": [
    {
     "data": {
      "text/plain": [
       "array([0.  , 0.25, 0.5 , 0.75, 1.  ])"
      ]
     },
     "execution_count": 13,
     "metadata": {},
     "output_type": "execute_result"
    }
   ],
   "source": [
    "# Evenly spaced numbers with linspace\n",
    "# Generates n points between start and stop INCLUSIVE:\n",
    "    # step size = (stop - start) / (n - 1)\n",
    "np.linspace(0, 1, 5)"
   ]
  },
  {
   "cell_type": "code",
   "execution_count": 15,
   "id": "12af6045",
   "metadata": {},
   "outputs": [
    {
     "data": {
      "text/plain": [
       "array([[0., 0., 0.],\n",
       "       [0., 0., 0.]])"
      ]
     },
     "execution_count": 15,
     "metadata": {},
     "output_type": "execute_result"
    }
   ],
   "source": [
    "np.zeros((2, 3))    # 2x3 matrix of 0s"
   ]
  },
  {
   "cell_type": "code",
   "execution_count": 16,
   "id": "f629ade5",
   "metadata": {},
   "outputs": [
    {
     "data": {
      "text/plain": [
       "array([[1., 1.],\n",
       "       [1., 1.],\n",
       "       [1., 1.]])"
      ]
     },
     "execution_count": 16,
     "metadata": {},
     "output_type": "execute_result"
    }
   ],
   "source": [
    "np.ones((3, 2))     # 3x2 matrix of 1s"
   ]
  },
  {
   "cell_type": "code",
   "execution_count": 17,
   "id": "4b2b4aa3",
   "metadata": {},
   "outputs": [
    {
     "data": {
      "text/plain": [
       "array([[1., 0., 0.],\n",
       "       [0., 1., 0.],\n",
       "       [0., 0., 1.]])"
      ]
     },
     "execution_count": 17,
     "metadata": {},
     "output_type": "execute_result"
    }
   ],
   "source": [
    "np.eye(3)           # 3x3 identity matrix"
   ]
  },
  {
   "cell_type": "code",
   "execution_count": 19,
   "id": "bba2dbf2",
   "metadata": {},
   "outputs": [
    {
     "data": {
      "text/plain": [
       "array([[0.17209067, 0.63142168, 0.22530424],\n",
       "       [0.54743221, 0.75648534, 0.13444112]])"
      ]
     },
     "execution_count": 19,
     "metadata": {},
     "output_type": "execute_result"
    }
   ],
   "source": [
    "np.random.rand(2, 3)    # returns Uniform distribution [0, 1)"
   ]
  },
  {
   "cell_type": "code",
   "execution_count": 20,
   "id": "e72b3811",
   "metadata": {},
   "outputs": [
    {
     "data": {
      "text/plain": [
       "array([[ 0.16853174,  0.42621512, -2.38567357],\n",
       "       [ 0.23131633, -0.68954013, -0.79881925]])"
      ]
     },
     "execution_count": 20,
     "metadata": {},
     "output_type": "execute_result"
    }
   ],
   "source": [
    "np.random.randn(2, 3)   # returns Normal distribution (mean=0, std=1)"
   ]
  },
  {
   "cell_type": "code",
   "execution_count": 21,
   "id": "f4b9fcdd",
   "metadata": {},
   "outputs": [
    {
     "data": {
      "text/plain": [
       "array([8, 6, 1, 8, 6])"
      ]
     },
     "execution_count": 21,
     "metadata": {},
     "output_type": "execute_result"
    }
   ],
   "source": [
    "np.random.randint(1, 10, 5)"
   ]
  },
  {
   "cell_type": "code",
   "execution_count": 23,
   "id": "41cfca68",
   "metadata": {},
   "outputs": [
    {
     "name": "stdout",
     "output_type": "stream",
     "text": [
      "[0.         1.57079633 3.14159265]\n",
      "[0.0000000e+00 1.0000000e+00 1.2246468e-16]\n",
      "[ 1.000000e+00  6.123234e-17 -1.000000e+00]\n",
      "[ 0.00000000e+00  1.63312394e+16 -1.22464680e-16]\n",
      "[ 1.          4.81047738 23.14069263]\n",
      "[      -inf 0.45158271 1.14472989]\n",
      "[      -inf 0.19611988 0.49714987]\n"
     ]
    },
    {
     "name": "stderr",
     "output_type": "stream",
     "text": [
      "/var/folders/2z/_ph3gl7s3kjcwc349g6k2nnw0000gn/T/ipykernel_2648/3370847268.py:8: RuntimeWarning: divide by zero encountered in log\n",
      "  print(np.log(arr))      # Natural log (ln)\n",
      "/var/folders/2z/_ph3gl7s3kjcwc349g6k2nnw0000gn/T/ipykernel_2648/3370847268.py:9: RuntimeWarning: divide by zero encountered in log10\n",
      "  print(np.log10(arr))    # Base-10 log\n"
     ]
    }
   ],
   "source": [
    "# NumPy allows to apply math to whole arrays without loops (vectorization)\n",
    "arr = np.array([0, np.pi/2, np.pi])\n",
    "print(arr)\n",
    "print(np.sin(arr))      # sine\n",
    "print(np.cos(arr))      # cosine\n",
    "print(np.tan(arr))      # tangent\n",
    "print(np.exp(arr))      # e^x\n",
    "print(np.log(arr))      # Natural log (ln)\n",
    "print(np.log10(arr))    # Base-10 log\n"
   ]
  },
  {
   "cell_type": "code",
   "execution_count": null,
   "id": "2101541c",
   "metadata": {},
   "outputs": [
    {
     "name": "stdout",
     "output_type": "stream",
     "text": [
      "x: [0. 1. 2. 3. 4. 5.]\n",
      "y: [ 5. 10. 19. 32. 49. 70.]\n"
     ]
    }
   ],
   "source": [
    "# y = 2x**2 + 3x + 5\n",
    "x = np.linspace(0, 5, 6)\n",
    "print(f\"x: {x}\")\n",
    "\n",
    "y = 2*x**2 + 3*x + 5    # applies to all elements of x without loop\n",
    "print(f\"y: {y}\")"
   ]
  },
  {
   "cell_type": "code",
   "execution_count": null,
   "id": "9c446b74",
   "metadata": {},
   "outputs": [
    {
     "name": "stdout",
     "output_type": "stream",
     "text": [
      "2\n",
      "[2 5]\n"
     ]
    }
   ],
   "source": [
    "# indexing and slicing\n",
    "mat = np.array([[1, 2, 3], [4, 5, 6]])\n",
    "print(mat[0, 1])\n",
    "print(mat[:, 1])    # all rows, column 1 -> [2 5]"
   ]
  },
  {
   "cell_type": "code",
   "execution_count": null,
   "id": "1baef83d",
   "metadata": {},
   "outputs": [
    {
     "name": "stdout",
     "output_type": "stream",
     "text": [
      "[[0 1 2]\n",
      " [3 4 5]]\n"
     ]
    }
   ],
   "source": [
    "# reshaping\n",
    "arr = np.arange(6)          # [0, 1, 2, 3, 4, 5]\n",
    "arr2d = arr.reshape(2, 3)   # 2 rows, 3 cols\n",
    "print(arr2d)"
   ]
  },
  {
   "cell_type": "code",
   "execution_count": null,
   "id": "66a74ce3",
   "metadata": {},
   "outputs": [
    {
     "name": "stdout",
     "output_type": "stream",
     "text": [
      "[[1. 1. 1.]\n",
      " [1. 1. 1.]]\n",
      "[[2. 3. 4.]\n",
      " [2. 3. 4.]]\n"
     ]
    }
   ],
   "source": [
    "# broadcasting: \n",
    "    # allows to operate on arrays of different shapes\n",
    "    # allows to avoid \"for\" loops\n",
    "mat = np.ones((2, 3))\n",
    "print(mat)\n",
    "\n",
    "print(mat + np.array([1, 2, 3]))    # numpy's \"+\" is addition, python's \"+\" is concatenation"
   ]
  },
  {
   "cell_type": "code",
   "execution_count": 33,
   "id": "d8ec1a30",
   "metadata": {},
   "outputs": [
    {
     "name": "stdout",
     "output_type": "stream",
     "text": [
      "[[11 21 31]\n",
      " [12 22 32]\n",
      " [13 23 33]]\n"
     ]
    }
   ],
   "source": [
    "# trailing axes alignment\n",
    "# if \"A\" shape (m,1) and \"B\" shape (1,n), A+B produces an mxn matrix\n",
    "A = np.array([[1],\n",
    "              [2],\n",
    "              [3]])     # shape (3, 1)\n",
    "B = np.array([[10, 20, 30]])\n",
    "C = A + B\n",
    "print(C)"
   ]
  },
  {
   "cell_type": "code",
   "execution_count": 42,
   "id": "b9af16ea",
   "metadata": {},
   "outputs": [],
   "source": [
    "# masking\n",
    "arr = np.arange(10)     # [0 1 2 3 4 5 6 7 8 9\n",
    "mask = arr % 2 == 0     # True False  True False  True False  True False  True False]\n",
    "evens = arr[mask]       # [0 2 4 6 8]"
   ]
  },
  {
   "cell_type": "markdown",
   "id": "ed4d9985",
   "metadata": {},
   "source": [
    "## Linear Algebra"
   ]
  },
  {
   "cell_type": "code",
   "execution_count": null,
   "id": "bd1c3613",
   "metadata": {},
   "outputs": [
    {
     "name": "stdout",
     "output_type": "stream",
     "text": [
      "32\n"
     ]
    }
   ],
   "source": [
    "# dot product (vector)\n",
    "# a.b = sum n (an * bn) = a1b1 + a2b2 + a3b3 + ... + anbn\n",
    "\n",
    "a = np.array([1, 2, 3])\n",
    "b = np.array([4, 5, 6])\n",
    "summation = np.dot(a, b)\n",
    "\n",
    "print(summation)"
   ]
  },
  {
   "cell_type": "code",
   "execution_count": 45,
   "id": "c8198136",
   "metadata": {},
   "outputs": [
    {
     "name": "stdout",
     "output_type": "stream",
     "text": [
      "[[0.49595821 0.7188086  1.35707716 0.49442173]\n",
      " [0.19475471 0.64521291 0.59417812 0.3167009 ]]\n"
     ]
    }
   ],
   "source": [
    "# matrix multiplication\n",
    "# Cij = sum k (Aik * Bkj)\n",
    "A = np.random.rand(2, 3)\n",
    "B = np.random.rand(3, 4)\n",
    "C = A @ B      # (2, 4)  or  np.matmul(A, B)\n",
    "print(C)"
   ]
  },
  {
   "cell_type": "markdown",
   "id": "730d63ae",
   "metadata": {},
   "source": [
    "## Vectorization (Replacing Python loops)"
   ]
  },
  {
   "cell_type": "code",
   "execution_count": null,
   "id": "3480088d",
   "metadata": {},
   "outputs": [],
   "source": [
    "# slow python technique without vectorization\n",
    "arr = np.arange(1_000_000)\n",
    "result = np.empty_like(arr)\n",
    "for i in range(len(arr)):\n",
    "    result[i] = arr[i] ** 2     # [0, 1, 4, 9, 16, .... ]\n",
    "\n",
    "# fast numpy vectorization technique\n",
    "result = arr ** 2   # numpy internally uses optimized C loops"
   ]
  },
  {
   "cell_type": "code",
   "execution_count": 52,
   "id": "75626b03",
   "metadata": {},
   "outputs": [
    {
     "name": "stdout",
     "output_type": "stream",
     "text": [
      "[[2 1]\n",
      " [1 3]]\n"
     ]
    }
   ],
   "source": [
    "A = np.array([[2, 1],\n",
    "              [1, 3]])\n",
    "B = np.array([[1, 0],\n",
    "              [0, 1]])\n",
    "print(np.dot(A, B))"
   ]
  }
 ],
 "metadata": {
  "kernelspec": {
   "display_name": "venv",
   "language": "python",
   "name": "python3"
  },
  "language_info": {
   "codemirror_mode": {
    "name": "ipython",
    "version": 3
   },
   "file_extension": ".py",
   "mimetype": "text/x-python",
   "name": "python",
   "nbconvert_exporter": "python",
   "pygments_lexer": "ipython3",
   "version": "3.13.1"
  }
 },
 "nbformat": 4,
 "nbformat_minor": 5
}
